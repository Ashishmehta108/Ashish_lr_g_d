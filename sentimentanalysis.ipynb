{
  "nbformat": 4,
  "nbformat_minor": 0,
  "metadata": {
    "colab": {
      "provenance": [],
      "authorship_tag": "ABX9TyPoVheDKV/6YuwFSpPpiCPO",
      "include_colab_link": true
    },
    "kernelspec": {
      "name": "python3",
      "display_name": "Python 3"
    },
    "language_info": {
      "name": "python"
    }
  },
  "cells": [
    {
      "cell_type": "markdown",
      "metadata": {
        "id": "view-in-github",
        "colab_type": "text"
      },
      "source": [
        "<a href=\"https://colab.research.google.com/github/Ashishmehta786/Ashish_lr_g_d/blob/main/sentimentanalysis.ipynb\" target=\"_parent\"><img src=\"https://colab.research.google.com/assets/colab-badge.svg\" alt=\"Open In Colab\"/></a>"
      ]
    },
    {
      "cell_type": "code",
      "execution_count": 71,
      "metadata": {
        "id": "ZwY6MxEDmsWZ"
      },
      "outputs": [],
      "source": [
        "import pandas as pd\n",
        "import numpy as np\n",
        "from sklearn.ensemble import RandomForestClassifier\n",
        "from sklearn.model_selection import train_test_split"
      ]
    },
    {
      "cell_type": "code",
      "source": [
        "df=pd.read_csv(\"this.csv\")\n",
        "rf=RandomForestClassifier()\n",
        "df.head(2)\n",
        "X=df.iloc[:,0]\n",
        "y=df.iloc[:,1]"
      ],
      "metadata": {
        "id": "0DqIrODDnBrI"
      },
      "execution_count": 117,
      "outputs": []
    },
    {
      "cell_type": "code",
      "source": [
        "X_train,X_test,y_train,y_test=train_test_split(X,y,random_state=0,train_size=0.8)\n",
        "from sklearn.feature_extraction.text import CountVectorizer\n",
        "X_test"
      ],
      "metadata": {
        "colab": {
          "base_uri": "https://localhost:8080/"
        },
        "id": "p2N3G7mFn134",
        "outputId": "d45bc5c3-dc5e-4059-feae-07e44a3c79eb"
      },
      "execution_count": 119,
      "outputs": [
        {
          "output_type": "execute_result",
          "data": {
            "text/plain": [
              "208                  Aaj ka weather bohot enjoyable tha.\n",
              "188                     Mujhe yeh dress bahut loose hai.\n",
              "12                   Mujhe aaj ka news sunke khushi hui.\n",
              "221                 Aaj ka weather mujhe energized kiya.\n",
              "239              Is website ka design mujhe modern laga.\n",
              "136               Mujhe yeh movie dekhke excitement hua.\n",
              "230                  Aaj ka weather mujhe cheerful kiya.\n",
              "206       Is restaurant ka ambiance mujhe peaceful laga.\n",
              "52               Mujhe yeh song bahut acha lag raha hai.\n",
              "108                     Aaj ka din bohot productive tha.\n",
              "290                       Aaj ka din bohot blissful tha.\n",
              "15                          Aaj ka din bohot hectic tha.\n",
              "184         Mere friend ne mujhe criticism di, dukh hua.\n",
              "248            Mujhe yeh movie ka concept original laga.\n",
              "22              Is event ka arrangements bahut poor the.\n",
              "74                Mujhe yeh movie dekhke excitement hua.\n",
              "270         Is restaurant ka food mujhe delectable laga.\n",
              "90          Mere friend ne mujhe criticism di, dukh hua.\n",
              "229          Mujhe yeh dress ka design fashionable laga.\n",
              "164           Mujhe yeh show dekhne mein maza nahi aaya.\n",
              "190                   Mujhe yeh movie dekhke khushi hui.\n",
              "103                  Is book ka starting bohot slow tha.\n",
              "124            Mujhe yeh song bahut boring lag raha hai.\n",
              "129                  Mujhe yeh song sunke gussa aa gaya.\n",
              "222    Is phone ka battery life mujhe satisfactory laga.\n",
              "116              Mujhe yeh song bahut acha lag raha hai.\n",
              "194                Mujhe yeh phone features pasand aaye.\n",
              "286          Yeh website ka design mujhe appealing laga.\n",
              "234    Aaj ka meeting productive hone se mujhe elatio...\n",
              "295      Is movie ka cinematography mujhe stunning laga.\n",
              "92             Mujhe yeh song bahut boring lag raha hai.\n",
              "66              Is movie ke dialogues bahut clichéd the.\n",
              "8                     Aaj ka weather bahut pleasant tha.\n",
              "122         Mere friend ne mujhe criticism di, dukh hua.\n",
              "219    Yeh restaurant ka food quality mujhe delectabl...\n",
              "150               Is book ka plot bahut predictable tha.\n",
              "176               Yeh gadget ka performance average hai.\n",
              "182               Is book ka plot bahut predictable tha.\n",
              "299                      Aaj ka din bohot enjoyable tha.\n",
              "5         Mujhe aaj office mein kaam karke maza aa gaya.\n",
              "223                Mujhe yeh song ka rhythm catchy laga.\n",
              "89     Mujhe yeh restaurant ka ambiance pasand nahi a...\n",
              "81         Mujhe yeh project karne mein excitement mila.\n",
              "34            Is movie ke dialogues bahut impactful the.\n",
              "55                         Aaj ka lunch bohot tasty tha.\n",
              "139                  Mujhe yeh dress bahut stylish lagi.\n",
              "236    Yeh movie ka cinematography mujhe breathtaking...\n",
              "64                    Mujhe yeh movie dekhke khushi hui.\n",
              "7                Mujhe yeh show dekhna pasand nahi aaya.\n",
              "45                 Mujhe yeh dress bahut expensive lagi.\n",
              "73                        Aaj ka weather bohot cold tha.\n",
              "213                      Aaj ka din bohot memorable tha.\n",
              "173            Mujhe yeh restaurant ka food pasand aaya.\n",
              "106               Mujhe yeh movie dekhke excitement hua.\n",
              "59                        Yeh movie bahut overrated thi.\n",
              "253      Mujhe yeh phone ka performance impressive laga.\n",
              "168               Mujhe yeh movie dekhke excitement hua.\n",
              "26                        Mujhe yeh news sunke dukh hua.\n",
              "284               Mujhe yeh dress ka color vibrant laga.\n",
              "153                       Yeh movie bahut overrated thi.\n",
              "Name: Sentence, dtype: object"
            ]
          },
          "metadata": {},
          "execution_count": 119
        }
      ]
    },
    {
      "cell_type": "code",
      "source": [
        "V=CountVectorizer()\n",
        "X_new=[[\"chlo bdiya h\"]]\n",
        "X_v_train=V.fit_transform(X_train).toarray()\n",
        "X_v_test=V.transform(X_test).toarray()\n",
        "#X_new=V.transform(X_new).toarray()\n",
        "from sklearn.naive_bayes import GaussianNB\n",
        "gnb=GaussianNB()\n",
        "gnb.fit(X_v_train,y_train)\n",
        "X_test"
      ],
      "metadata": {
        "colab": {
          "base_uri": "https://localhost:8080/"
        },
        "id": "kBvI3Ca70RMx",
        "outputId": "328882f2-6d09-4d82-cfba-2cfcc3cc3985"
      },
      "execution_count": 113,
      "outputs": [
        {
          "output_type": "execute_result",
          "data": {
            "text/plain": [
              "208                  Aaj ka weather bohot enjoyable tha.\n",
              "188                     Mujhe yeh dress bahut loose hai.\n",
              "12                   Mujhe aaj ka news sunke khushi hui.\n",
              "221                 Aaj ka weather mujhe energized kiya.\n",
              "239              Is website ka design mujhe modern laga.\n",
              "136               Mujhe yeh movie dekhke excitement hua.\n",
              "230                  Aaj ka weather mujhe cheerful kiya.\n",
              "206       Is restaurant ka ambiance mujhe peaceful laga.\n",
              "52               Mujhe yeh song bahut acha lag raha hai.\n",
              "108                     Aaj ka din bohot productive tha.\n",
              "290                       Aaj ka din bohot blissful tha.\n",
              "15                          Aaj ka din bohot hectic tha.\n",
              "184         Mere friend ne mujhe criticism di, dukh hua.\n",
              "248            Mujhe yeh movie ka concept original laga.\n",
              "22              Is event ka arrangements bahut poor the.\n",
              "74                Mujhe yeh movie dekhke excitement hua.\n",
              "270         Is restaurant ka food mujhe delectable laga.\n",
              "90          Mere friend ne mujhe criticism di, dukh hua.\n",
              "229          Mujhe yeh dress ka design fashionable laga.\n",
              "164           Mujhe yeh show dekhne mein maza nahi aaya.\n",
              "190                   Mujhe yeh movie dekhke khushi hui.\n",
              "103                  Is book ka starting bohot slow tha.\n",
              "124            Mujhe yeh song bahut boring lag raha hai.\n",
              "129                  Mujhe yeh song sunke gussa aa gaya.\n",
              "222    Is phone ka battery life mujhe satisfactory laga.\n",
              "116              Mujhe yeh song bahut acha lag raha hai.\n",
              "194                Mujhe yeh phone features pasand aaye.\n",
              "286          Yeh website ka design mujhe appealing laga.\n",
              "234    Aaj ka meeting productive hone se mujhe elatio...\n",
              "295      Is movie ka cinematography mujhe stunning laga.\n",
              "92             Mujhe yeh song bahut boring lag raha hai.\n",
              "66              Is movie ke dialogues bahut clichéd the.\n",
              "8                     Aaj ka weather bahut pleasant tha.\n",
              "122         Mere friend ne mujhe criticism di, dukh hua.\n",
              "219    Yeh restaurant ka food quality mujhe delectabl...\n",
              "150               Is book ka plot bahut predictable tha.\n",
              "176               Yeh gadget ka performance average hai.\n",
              "182               Is book ka plot bahut predictable tha.\n",
              "299                      Aaj ka din bohot enjoyable tha.\n",
              "5         Mujhe aaj office mein kaam karke maza aa gaya.\n",
              "223                Mujhe yeh song ka rhythm catchy laga.\n",
              "89     Mujhe yeh restaurant ka ambiance pasand nahi a...\n",
              "81         Mujhe yeh project karne mein excitement mila.\n",
              "34            Is movie ke dialogues bahut impactful the.\n",
              "55                         Aaj ka lunch bohot tasty tha.\n",
              "139                  Mujhe yeh dress bahut stylish lagi.\n",
              "236    Yeh movie ka cinematography mujhe breathtaking...\n",
              "64                    Mujhe yeh movie dekhke khushi hui.\n",
              "7                Mujhe yeh show dekhna pasand nahi aaya.\n",
              "45                 Mujhe yeh dress bahut expensive lagi.\n",
              "73                        Aaj ka weather bohot cold tha.\n",
              "213                      Aaj ka din bohot memorable tha.\n",
              "173            Mujhe yeh restaurant ka food pasand aaya.\n",
              "106               Mujhe yeh movie dekhke excitement hua.\n",
              "59                        Yeh movie bahut overrated thi.\n",
              "253      Mujhe yeh phone ka performance impressive laga.\n",
              "168               Mujhe yeh movie dekhke excitement hua.\n",
              "26                        Mujhe yeh news sunke dukh hua.\n",
              "284               Mujhe yeh dress ka color vibrant laga.\n",
              "153                       Yeh movie bahut overrated thi.\n",
              "Name: Sentence, dtype: object"
            ]
          },
          "metadata": {},
          "execution_count": 113
        }
      ]
    },
    {
      "cell_type": "code",
      "source": [
        "from sklearn.metrics import accuracy_score\n",
        "y_pred=gnb.predict(X_v_test)\n",
        "y_pred"
      ],
      "metadata": {
        "colab": {
          "base_uri": "https://localhost:8080/"
        },
        "id": "beRkEpAR1tx-",
        "outputId": "f23e32b6-eb80-40b9-9e54-a981dce01fe5"
      },
      "execution_count": 111,
      "outputs": [
        {
          "output_type": "execute_result",
          "data": {
            "text/plain": [
              "array([0, 0, 1, 1, 0, 1, 1, 1, 1, 1, 1, 0, 0, 1, 0, 1, 0, 0, 0, 0, 1, 0,\n",
              "       0, 0, 1, 1, 1, 1, 1, 1, 0, 0, 1, 0, 0, 0, 0, 0, 0, 1, 1, 0, 1, 1,\n",
              "       1, 1, 0, 1, 0, 1, 0, 0, 0, 1, 0, 1, 1, 0, 1, 0])"
            ]
          },
          "metadata": {},
          "execution_count": 111
        }
      ]
    },
    {
      "cell_type": "code",
      "source": [
        "from sklearn.linear_model import LogisticRegression\n",
        "Lgr=LogisticRegression()\n",
        "Lgr.fit(X_v_train,y_train)"
      ],
      "metadata": {
        "colab": {
          "base_uri": "https://localhost:8080/",
          "height": 75
        },
        "id": "sR31vupL47Tl",
        "outputId": "c3b50f6e-d759-4e78-81ed-aeeba60ac835"
      },
      "execution_count": 123,
      "outputs": [
        {
          "output_type": "execute_result",
          "data": {
            "text/plain": [
              "LogisticRegression()"
            ],
            "text/html": [
              "<style>#sk-container-id-7 {color: black;background-color: white;}#sk-container-id-7 pre{padding: 0;}#sk-container-id-7 div.sk-toggleable {background-color: white;}#sk-container-id-7 label.sk-toggleable__label {cursor: pointer;display: block;width: 100%;margin-bottom: 0;padding: 0.3em;box-sizing: border-box;text-align: center;}#sk-container-id-7 label.sk-toggleable__label-arrow:before {content: \"▸\";float: left;margin-right: 0.25em;color: #696969;}#sk-container-id-7 label.sk-toggleable__label-arrow:hover:before {color: black;}#sk-container-id-7 div.sk-estimator:hover label.sk-toggleable__label-arrow:before {color: black;}#sk-container-id-7 div.sk-toggleable__content {max-height: 0;max-width: 0;overflow: hidden;text-align: left;background-color: #f0f8ff;}#sk-container-id-7 div.sk-toggleable__content pre {margin: 0.2em;color: black;border-radius: 0.25em;background-color: #f0f8ff;}#sk-container-id-7 input.sk-toggleable__control:checked~div.sk-toggleable__content {max-height: 200px;max-width: 100%;overflow: auto;}#sk-container-id-7 input.sk-toggleable__control:checked~label.sk-toggleable__label-arrow:before {content: \"▾\";}#sk-container-id-7 div.sk-estimator input.sk-toggleable__control:checked~label.sk-toggleable__label {background-color: #d4ebff;}#sk-container-id-7 div.sk-label input.sk-toggleable__control:checked~label.sk-toggleable__label {background-color: #d4ebff;}#sk-container-id-7 input.sk-hidden--visually {border: 0;clip: rect(1px 1px 1px 1px);clip: rect(1px, 1px, 1px, 1px);height: 1px;margin: -1px;overflow: hidden;padding: 0;position: absolute;width: 1px;}#sk-container-id-7 div.sk-estimator {font-family: monospace;background-color: #f0f8ff;border: 1px dotted black;border-radius: 0.25em;box-sizing: border-box;margin-bottom: 0.5em;}#sk-container-id-7 div.sk-estimator:hover {background-color: #d4ebff;}#sk-container-id-7 div.sk-parallel-item::after {content: \"\";width: 100%;border-bottom: 1px solid gray;flex-grow: 1;}#sk-container-id-7 div.sk-label:hover label.sk-toggleable__label {background-color: #d4ebff;}#sk-container-id-7 div.sk-serial::before {content: \"\";position: absolute;border-left: 1px solid gray;box-sizing: border-box;top: 0;bottom: 0;left: 50%;z-index: 0;}#sk-container-id-7 div.sk-serial {display: flex;flex-direction: column;align-items: center;background-color: white;padding-right: 0.2em;padding-left: 0.2em;position: relative;}#sk-container-id-7 div.sk-item {position: relative;z-index: 1;}#sk-container-id-7 div.sk-parallel {display: flex;align-items: stretch;justify-content: center;background-color: white;position: relative;}#sk-container-id-7 div.sk-item::before, #sk-container-id-7 div.sk-parallel-item::before {content: \"\";position: absolute;border-left: 1px solid gray;box-sizing: border-box;top: 0;bottom: 0;left: 50%;z-index: -1;}#sk-container-id-7 div.sk-parallel-item {display: flex;flex-direction: column;z-index: 1;position: relative;background-color: white;}#sk-container-id-7 div.sk-parallel-item:first-child::after {align-self: flex-end;width: 50%;}#sk-container-id-7 div.sk-parallel-item:last-child::after {align-self: flex-start;width: 50%;}#sk-container-id-7 div.sk-parallel-item:only-child::after {width: 0;}#sk-container-id-7 div.sk-dashed-wrapped {border: 1px dashed gray;margin: 0 0.4em 0.5em 0.4em;box-sizing: border-box;padding-bottom: 0.4em;background-color: white;}#sk-container-id-7 div.sk-label label {font-family: monospace;font-weight: bold;display: inline-block;line-height: 1.2em;}#sk-container-id-7 div.sk-label-container {text-align: center;}#sk-container-id-7 div.sk-container {/* jupyter's `normalize.less` sets `[hidden] { display: none; }` but bootstrap.min.css set `[hidden] { display: none !important; }` so we also need the `!important` here to be able to override the default hidden behavior on the sphinx rendered scikit-learn.org. See: https://github.com/scikit-learn/scikit-learn/issues/21755 */display: inline-block !important;position: relative;}#sk-container-id-7 div.sk-text-repr-fallback {display: none;}</style><div id=\"sk-container-id-7\" class=\"sk-top-container\"><div class=\"sk-text-repr-fallback\"><pre>LogisticRegression()</pre><b>In a Jupyter environment, please rerun this cell to show the HTML representation or trust the notebook. <br />On GitHub, the HTML representation is unable to render, please try loading this page with nbviewer.org.</b></div><div class=\"sk-container\" hidden><div class=\"sk-item\"><div class=\"sk-estimator sk-toggleable\"><input class=\"sk-toggleable__control sk-hidden--visually\" id=\"sk-estimator-id-7\" type=\"checkbox\" checked><label for=\"sk-estimator-id-7\" class=\"sk-toggleable__label sk-toggleable__label-arrow\">LogisticRegression</label><div class=\"sk-toggleable__content\"><pre>LogisticRegression()</pre></div></div></div></div></div>"
            ]
          },
          "metadata": {},
          "execution_count": 123
        }
      ]
    },
    {
      "cell_type": "code",
      "source": [
        "y_pred=Lgr.predict(X_v_test)\n",
        "accuracy_score(y_pred,y_test)"
      ],
      "metadata": {
        "colab": {
          "base_uri": "https://localhost:8080/"
        },
        "id": "WForvo2B5NPE",
        "outputId": "ae1a654a-a7c7-4b89-a38a-567cc597110b"
      },
      "execution_count": 125,
      "outputs": [
        {
          "output_type": "execute_result",
          "data": {
            "text/plain": [
              "0.9166666666666666"
            ]
          },
          "metadata": {},
          "execution_count": 125
        }
      ]
    }
  ]
}